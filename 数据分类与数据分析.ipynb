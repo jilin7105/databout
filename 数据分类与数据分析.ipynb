{
 "cells": [
  {
   "cell_type": "code",
   "execution_count": null,
   "id": "8ecbc999",
   "metadata": {},
   "outputs": [],
   "source": [
    "'''\n",
    "定类（类别） ： 根据数据的离散，无差别进行分类 （性别，民族）\n",
    "定序（顺序） ： 可以界定数据大小，但是不能确定差值  （收入低中高）\n",
    "定距（间隔） ： 可以界定数据大小的同时，可以测定差值，但无绝对0点（温度，没有零下2度比零下1度冷两倍 ，乘除无意义）\n",
    "定比（比率） ： 可以界定数据大小，可测订差值，有绝对0点（长度，体积）\n",
    "'''"
   ]
  },
  {
   "cell_type": "code",
   "execution_count": null,
   "id": "5a01c733",
   "metadata": {},
   "outputs": [],
   "source": [
    "'''\n",
    "异常值分析\n",
    " \n",
    "连续异常值   \n",
    "   \n",
    "    如取四分位 ，k *(Q3 - Q1) ( K[1.5 - 3]  )  为上下界， 上下界之外的值为 连续异常值 \n",
    "    \n",
    "离散异常值 \n",
    "\n",
    "    定义范围以外的值\n",
    "\n",
    "知识异常值 \n",
    "\n",
    "    在认知范围以外的值，比如身高10米\n",
    "\n",
    "'''\n"
   ]
  },
  {
   "cell_type": "code",
   "execution_count": null,
   "id": "a8b13c6b",
   "metadata": {},
   "outputs": [],
   "source": [
    "'''\n",
    "对比分析\n",
    "\n",
    "绝对数比较 \n",
    " \n",
    "  收入比较， 身高比较\n",
    "\n",
    "相对数比较\n",
    "\n",
    "   结构相对数 ： 产品合格率 ，考试通过率\n",
    "   \n",
    "   比例相对数 ： \n",
    "   \n",
    "   比较相对数 ： 不同时期的同一产品的数量\n",
    "   \n",
    "   动态相对数 ： 有时间概念，  速度 ，增速 \n",
    "   \n",
    "   强度相对数 ：  人均 ，亩产，密度 \n",
    "\n",
    "\n",
    "'''"
   ]
  },
  {
   "cell_type": "code",
   "execution_count": null,
   "id": "1c7f1278",
   "metadata": {},
   "outputs": [],
   "source": [
    "'''\n",
    "维度 \n",
    "时间维度  \n",
    "   同比：去年同期\n",
    "   环比：上个周期\n",
    "   \n",
    "空间维度\n",
    "    不同城市，不同国家\n",
    "    不同部门 （逻辑空间）\n",
    "\n",
    "经验对比\n",
    "    失业率达到多少会暴乱， 用本国失业率和该数据比较\n",
    "    功能排期，进度中不断对比排期  （进度）\n",
    "\n",
    "\n",
    "'''\n"
   ]
  },
  {
   "cell_type": "code",
   "execution_count": null,
   "id": "237e1e0f",
   "metadata": {},
   "outputs": [],
   "source": [
    "'''\n",
    "结构分析\n",
    "部分总体分析\n",
    "\n",
    "    静态分析 \n",
    "       直接分析总体组成 \n",
    "       \n",
    "    动态分析\n",
    "        以时间为轴，分析结构趋势 \n",
    "\n",
    "'''"
   ]
  },
  {
   "cell_type": "code",
   "execution_count": null,
   "id": "7e0afe86",
   "metadata": {},
   "outputs": [],
   "source": [
    "'''\n",
    "分布分析\n",
    "\n",
    "直接获得概率分布\n",
    "\n",
    "是不是正态分布\n",
    "\n",
    "极大似然\n",
    "   相似程度的衡量\n",
    "\n",
    "\n",
    "'''"
   ]
  }
 ],
 "metadata": {
  "kernelspec": {
   "display_name": "Python 3",
   "language": "python",
   "name": "python3"
  },
  "language_info": {
   "codemirror_mode": {
    "name": "ipython",
    "version": 3
   },
   "file_extension": ".py",
   "mimetype": "text/x-python",
   "name": "python",
   "nbconvert_exporter": "python",
   "pygments_lexer": "ipython3",
   "version": "3.8.8"
  }
 },
 "nbformat": 4,
 "nbformat_minor": 5
}
