{
 "cells": [
  {
   "cell_type": "code",
   "execution_count": 7,
   "id": "38df132c",
   "metadata": {},
   "outputs": [
    {
     "data": {
      "text/html": [
       "<div>\n",
       "<style scoped>\n",
       "    .dataframe tbody tr th:only-of-type {\n",
       "        vertical-align: middle;\n",
       "    }\n",
       "\n",
       "    .dataframe tbody tr th {\n",
       "        vertical-align: top;\n",
       "    }\n",
       "\n",
       "    .dataframe thead th {\n",
       "        text-align: right;\n",
       "    }\n",
       "</style>\n",
       "<table border=\"1\" class=\"dataframe\">\n",
       "  <thead>\n",
       "    <tr style=\"text-align: right;\">\n",
       "      <th></th>\n",
       "      <th>satisfaction_level</th>\n",
       "      <th>last_evaluation</th>\n",
       "      <th>number_project</th>\n",
       "      <th>average_monthly_hours</th>\n",
       "      <th>time_spend_company</th>\n",
       "      <th>Work_accident</th>\n",
       "      <th>left</th>\n",
       "      <th>promotion_last_5years</th>\n",
       "      <th>department</th>\n",
       "      <th>salary</th>\n",
       "    </tr>\n",
       "  </thead>\n",
       "  <tbody>\n",
       "    <tr>\n",
       "      <th>0</th>\n",
       "      <td>0.38</td>\n",
       "      <td>0.53</td>\n",
       "      <td>2</td>\n",
       "      <td>157</td>\n",
       "      <td>3</td>\n",
       "      <td>0</td>\n",
       "      <td>1</td>\n",
       "      <td>0</td>\n",
       "      <td>sales</td>\n",
       "      <td>low</td>\n",
       "    </tr>\n",
       "    <tr>\n",
       "      <th>1</th>\n",
       "      <td>0.80</td>\n",
       "      <td>0.86</td>\n",
       "      <td>5</td>\n",
       "      <td>262</td>\n",
       "      <td>6</td>\n",
       "      <td>0</td>\n",
       "      <td>1</td>\n",
       "      <td>0</td>\n",
       "      <td>sales</td>\n",
       "      <td>medium</td>\n",
       "    </tr>\n",
       "    <tr>\n",
       "      <th>2</th>\n",
       "      <td>0.11</td>\n",
       "      <td>0.88</td>\n",
       "      <td>7</td>\n",
       "      <td>272</td>\n",
       "      <td>4</td>\n",
       "      <td>0</td>\n",
       "      <td>1</td>\n",
       "      <td>0</td>\n",
       "      <td>sales</td>\n",
       "      <td>medium</td>\n",
       "    </tr>\n",
       "    <tr>\n",
       "      <th>3</th>\n",
       "      <td>0.72</td>\n",
       "      <td>0.87</td>\n",
       "      <td>5</td>\n",
       "      <td>223</td>\n",
       "      <td>5</td>\n",
       "      <td>0</td>\n",
       "      <td>1</td>\n",
       "      <td>0</td>\n",
       "      <td>sales</td>\n",
       "      <td>low</td>\n",
       "    </tr>\n",
       "    <tr>\n",
       "      <th>4</th>\n",
       "      <td>0.37</td>\n",
       "      <td>0.52</td>\n",
       "      <td>2</td>\n",
       "      <td>159</td>\n",
       "      <td>3</td>\n",
       "      <td>0</td>\n",
       "      <td>1</td>\n",
       "      <td>0</td>\n",
       "      <td>sales</td>\n",
       "      <td>low</td>\n",
       "    </tr>\n",
       "    <tr>\n",
       "      <th>...</th>\n",
       "      <td>...</td>\n",
       "      <td>...</td>\n",
       "      <td>...</td>\n",
       "      <td>...</td>\n",
       "      <td>...</td>\n",
       "      <td>...</td>\n",
       "      <td>...</td>\n",
       "      <td>...</td>\n",
       "      <td>...</td>\n",
       "      <td>...</td>\n",
       "    </tr>\n",
       "    <tr>\n",
       "      <th>14997</th>\n",
       "      <td>0.11</td>\n",
       "      <td>0.96</td>\n",
       "      <td>6</td>\n",
       "      <td>280</td>\n",
       "      <td>4</td>\n",
       "      <td>0</td>\n",
       "      <td>1</td>\n",
       "      <td>0</td>\n",
       "      <td>support</td>\n",
       "      <td>low</td>\n",
       "    </tr>\n",
       "    <tr>\n",
       "      <th>14998</th>\n",
       "      <td>0.37</td>\n",
       "      <td>0.52</td>\n",
       "      <td>2</td>\n",
       "      <td>158</td>\n",
       "      <td>3</td>\n",
       "      <td>0</td>\n",
       "      <td>1</td>\n",
       "      <td>0</td>\n",
       "      <td>support</td>\n",
       "      <td>low</td>\n",
       "    </tr>\n",
       "    <tr>\n",
       "      <th>14999</th>\n",
       "      <td>NaN</td>\n",
       "      <td>0.52</td>\n",
       "      <td>2</td>\n",
       "      <td>158</td>\n",
       "      <td>3</td>\n",
       "      <td>0</td>\n",
       "      <td>1</td>\n",
       "      <td>0</td>\n",
       "      <td>support</td>\n",
       "      <td>low</td>\n",
       "    </tr>\n",
       "    <tr>\n",
       "      <th>15000</th>\n",
       "      <td>NaN</td>\n",
       "      <td>999999.00</td>\n",
       "      <td>2</td>\n",
       "      <td>158</td>\n",
       "      <td>3</td>\n",
       "      <td>0</td>\n",
       "      <td>1</td>\n",
       "      <td>0</td>\n",
       "      <td>sale</td>\n",
       "      <td>low</td>\n",
       "    </tr>\n",
       "    <tr>\n",
       "      <th>15001</th>\n",
       "      <td>0.70</td>\n",
       "      <td>0.40</td>\n",
       "      <td>2</td>\n",
       "      <td>158</td>\n",
       "      <td>2</td>\n",
       "      <td>0</td>\n",
       "      <td>1</td>\n",
       "      <td>0</td>\n",
       "      <td>sale</td>\n",
       "      <td>nme</td>\n",
       "    </tr>\n",
       "  </tbody>\n",
       "</table>\n",
       "<p>15002 rows × 10 columns</p>\n",
       "</div>"
      ],
      "text/plain": [
       "       satisfaction_level  last_evaluation  number_project  \\\n",
       "0                    0.38             0.53               2   \n",
       "1                    0.80             0.86               5   \n",
       "2                    0.11             0.88               7   \n",
       "3                    0.72             0.87               5   \n",
       "4                    0.37             0.52               2   \n",
       "...                   ...              ...             ...   \n",
       "14997                0.11             0.96               6   \n",
       "14998                0.37             0.52               2   \n",
       "14999                 NaN             0.52               2   \n",
       "15000                 NaN        999999.00               2   \n",
       "15001                0.70             0.40               2   \n",
       "\n",
       "       average_monthly_hours  time_spend_company  Work_accident  left  \\\n",
       "0                        157                   3              0     1   \n",
       "1                        262                   6              0     1   \n",
       "2                        272                   4              0     1   \n",
       "3                        223                   5              0     1   \n",
       "4                        159                   3              0     1   \n",
       "...                      ...                 ...            ...   ...   \n",
       "14997                    280                   4              0     1   \n",
       "14998                    158                   3              0     1   \n",
       "14999                    158                   3              0     1   \n",
       "15000                    158                   3              0     1   \n",
       "15001                    158                   2              0     1   \n",
       "\n",
       "       promotion_last_5years department  salary  \n",
       "0                          0      sales     low  \n",
       "1                          0      sales  medium  \n",
       "2                          0      sales  medium  \n",
       "3                          0      sales     low  \n",
       "4                          0      sales     low  \n",
       "...                      ...        ...     ...  \n",
       "14997                      0    support     low  \n",
       "14998                      0    support     low  \n",
       "14999                      0    support     low  \n",
       "15000                      0       sale     low  \n",
       "15001                      0       sale     nme  \n",
       "\n",
       "[15002 rows x 10 columns]"
      ]
     },
     "execution_count": 7,
     "metadata": {},
     "output_type": "execute_result"
    }
   ],
   "source": [
    "import seaborn as sns \n",
    "import pandas as pd \n",
    "import numpy as np\n",
    "import matplotlib.pyplot as plt\n",
    "\n",
    "df = pd.read_csv(\"data/HR.csv\")\n",
    "df "
   ]
  },
  {
   "cell_type": "code",
   "execution_count": 2,
   "id": "2fc81802",
   "metadata": {},
   "outputs": [
    {
     "data": {
      "text/plain": [
       "<BarContainer object of 4 artists>"
      ]
     },
     "execution_count": 2,
     "metadata": {},
     "output_type": "execute_result"
    },
    {
     "data": {
      "image/png": "[encoded data removed]",
      "text/plain": [
       "<Figure size 432x288 with 1 Axes>"
      ]
     },
     "metadata": {
      "needs_background": "light"
     },
     "output_type": "display_data"
    }
   ],
   "source": [
    "plt.bar(np.arange(len(df[\"salary\"].value_counts())) ,df[\"salary\"].value_counts() )"
   ]
  },
  {
   "cell_type": "code",
   "execution_count": 3,
   "id": "528ad421",
   "metadata": {},
   "outputs": [
    {
     "data": {
      "text/plain": [
       "<BarContainer object of 3 artists>"
      ]
     },
     "execution_count": 3,
     "metadata": {},
     "output_type": "execute_result"
    },
    {
     "data": {
      "image/png": "[encoded data removed]",
      "text/plain": [
       "<Figure size 432x288 with 1 Axes>"
      ]
     },
     "metadata": {
      "needs_background": "light"
     },
     "output_type": "display_data"
    }
   ],
   "source": [
    "df = df[df['salary'] != \"nme\"]\n",
    "plt.title(\"salary\")\n",
    "plt.xlabel(\"salary\")\n",
    "plt.ylabel(\"number\")\n",
    "plt.xticks(np.arange(len(df[\"salary\"].value_counts())) +0.5 , df[\"salary\"].value_counts().index)\n",
    "plt.axis([0,4 ,0,10000])\n",
    "plt.bar(np.arange(len(df[\"salary\"].value_counts()))+0.5 ,df[\"salary\"].value_counts() ,width=0.5 )"
   ]
  },
  {
   "cell_type": "code",
   "execution_count": 4,
   "id": "7af6c3b9",
   "metadata": {},
   "outputs": [
    {
     "data": {
      "image/png": "[encoded data removed]",
      "text/plain": [
       "<Figure size 432x288 with 1 Axes>"
      ]
     },
     "metadata": {},
     "output_type": "display_data"
    }
   ],
   "source": [
    "df = df[df['salary'] != \"nme\"]\n",
    "sns.set_style(style=\"ticks\") #添加样式\n",
    "sns.set_context(context=\"poster\",font_scale=0.8)\n",
    "sns.set_palette(\"Dark2\")\n",
    "plt.title(\"salary\")\n",
    "plt.xlabel(\"salary\")\n",
    "plt.ylabel(\"number\")\n",
    "plt.xticks(np.arange(len(df[\"salary\"].value_counts())) +0.5 , df[\"salary\"].value_counts().index)\n",
    "plt.axis([0,4 ,0,10000])\n",
    "plt.bar(np.arange(len(df[\"salary\"].value_counts()))+0.5 ,df[\"salary\"].value_counts() ,width=0.5 )\n",
    "for x,y in zip(np.arange(len(df[\"salary\"].value_counts()))+0.5 , df[\"salary\"].value_counts()):\n",
    "                     plt.text(x,y,y,ha=\"center\",va=\"bottom\")"
   ]
  },
  {
   "cell_type": "code",
   "execution_count": 5,
   "id": "02ef832b",
   "metadata": {},
   "outputs": [
    {
     "data": {
      "image/png": "[encoded data removed]",
      "text/plain": [
       "<Figure size 432x288 with 1 Axes>"
      ]
     },
     "metadata": {},
     "output_type": "display_data"
    }
   ],
   "source": [
    "\n",
    "sns.set_style(style=\"ticks\") #添加样式\n",
    "sns.set_context(context=\"poster\",font_scale=0.8)\n",
    "sns.set_palette(sns.color_palette(\"RdBu\",n_colors=7)[4:])\n",
    "plt.title(\"salary\")\n",
    "plt.xlabel(\"salary\")\n",
    "plt.ylabel(\"number\")\n",
    "plt.xticks(np.arange(len(df[\"salary\"].value_counts())) +0.5 , df[\"salary\"].value_counts().index)\n",
    "plt.axis([0,4 ,0,10000])\n",
    "plt.bar(np.arange(len(df[\"salary\"].value_counts()))+0.5 ,df[\"salary\"].value_counts() ,width=0.5 )\n",
    "for x,y in zip(np.arange(len(df[\"salary\"].value_counts()))+0.5 , df[\"salary\"].value_counts()):\n",
    "                     plt.text(x,y,y,ha=\"center\",va=\"bottom\")"
   ]
  },
  {
   "cell_type": "code",
   "execution_count": 6,
   "id": "4f550575",
   "metadata": {},
   "outputs": [
    {
     "data": {
      "text/plain": [
       "<AxesSubplot:xlabel='salary', ylabel='count'>"
      ]
     },
     "execution_count": 6,
     "metadata": {},
     "output_type": "execute_result"
    },
    {
     "data": {
      "image/png": "[encoded data removed]",
      "text/plain": [
       "<Figure size 432x288 with 1 Axes>"
      ]
     },
     "metadata": {},
     "output_type": "display_data"
    }
   ],
   "source": [
    "sns.set_style(style=\"ticks\") #添加样式\n",
    "sns.set_context(context=\"poster\",font_scale=0.2)\n",
    "sns.set_palette(sns.color_palette(\"RdBu\",n_colors=7)[4:])\n",
    "sns.countplot(x=\"salary\" ,hue=\"department\" ,data=df)"
   ]
  },
  {
   "cell_type": "code",
   "execution_count": 9,
   "id": "5d520372",
   "metadata": {},
   "outputs": [
    {
     "data": {
      "text/plain": [
       "<seaborn.axisgrid.FacetGrid at 0x257d79ec610>"
      ]
     },
     "execution_count": 9,
     "metadata": {},
     "output_type": "execute_result"
    },
    {
     "data": {
      "image/png": "[encoded data removed]",
      "text/plain": [
       "<Figure size 432x288 with 2 Axes>"
      ]
     },
     "metadata": {},
     "output_type": "display_data"
    },
    {
     "data": {
      "image/png": "[encoded data removed]",
      "text/plain": [
       "<Figure size 360x360 with 1 Axes>"
      ]
     },
     "metadata": {},
     "output_type": "display_data"
    },
    {
     "data": {
      "image/png": "[encoded data removed]",
      "text/plain": [
       "<Figure size 360x360 with 1 Axes>"
      ]
     },
     "metadata": {},
     "output_type": "display_data"
    }
   ],
   "source": [
    "sns.set_style(style=\"ticks\") #添加样式\n",
    "sns.set_context(context=\"poster\",font_scale=0.2)\n",
    "sns.set_palette(sns.color_palette(\"RdBu\",n_colors=7)[4:])\n",
    "f = plt.figure()\n",
    "f.add_subplot(1,3,1)\n",
    "ls_s = df[\"satisfaction_level\"].dropna()\n",
    "sns.displot( ls_s,bins=1,kde =True) #显示曲线\n",
    "f.add_subplot(1,3,2)\n",
    "ls_s = df[\"last_evaluation\"].dropna()\n",
    "sns.displot( ls_s,bins=10,kde=True) #显示曲线\n",
    "# sns.displot( ls_s,bins=10,hist=False,kde =True) #显示曲线\n"
   ]
  },
  {
   "cell_type": "code",
   "execution_count": 13,
   "id": "5ff325b1",
   "metadata": {},
   "outputs": [
    {
     "data": {
      "image/png": "[encoded data removed]",
      "text/plain": [
       "<Figure size 432x288 with 1 Axes>"
      ]
     },
     "metadata": {},
     "output_type": "display_data"
    }
   ],
   "source": [
    "sns.boxplot(x=df[\"time_spend_company\"],saturation=0.75, whis=3)\n",
    "plt.show()"
   ]
  },
  {
   "cell_type": "code",
   "execution_count": 15,
   "id": "74a92fed",
   "metadata": {},
   "outputs": [
    {
     "name": "stderr",
     "output_type": "stream",
     "text": [
      "D:\\anaconda\\envs\\python38\\lib\\site-packages\\seaborn\\_decorators.py:36: FutureWarning: Pass the following variables as keyword args: x, y. From version 0.12, the only valid positional argument will be `data`, and passing other arguments without an explicit keyword will result in an error or misinterpretation.\n",
      "  warnings.warn(\n"
     ]
    },
    {
     "data": {
      "text/html": [
       "<div>\n",
       "<style scoped>\n",
       "    .dataframe tbody tr th:only-of-type {\n",
       "        vertical-align: middle;\n",
       "    }\n",
       "\n",
       "    .dataframe tbody tr th {\n",
       "        vertical-align: top;\n",
       "    }\n",
       "\n",
       "    .dataframe thead th {\n",
       "        text-align: right;\n",
       "    }\n",
       "</style>\n",
       "<table border=\"1\" class=\"dataframe\">\n",
       "  <thead>\n",
       "    <tr style=\"text-align: right;\">\n",
       "      <th></th>\n",
       "      <th>satisfaction_level</th>\n",
       "      <th>last_evaluation</th>\n",
       "      <th>number_project</th>\n",
       "      <th>average_monthly_hours</th>\n",
       "      <th>Work_accident</th>\n",
       "      <th>left</th>\n",
       "      <th>promotion_last_5years</th>\n",
       "    </tr>\n",
       "    <tr>\n",
       "      <th>time_spend_company</th>\n",
       "      <th></th>\n",
       "      <th></th>\n",
       "      <th></th>\n",
       "      <th></th>\n",
       "      <th></th>\n",
       "      <th></th>\n",
       "      <th></th>\n",
       "    </tr>\n",
       "  </thead>\n",
       "  <tbody>\n",
       "    <tr>\n",
       "      <th>2</th>\n",
       "      <td>0.697079</td>\n",
       "      <td>0.717498</td>\n",
       "      <td>3.686903</td>\n",
       "      <td>200.120185</td>\n",
       "      <td>0.171957</td>\n",
       "      <td>0.016641</td>\n",
       "      <td>0.016641</td>\n",
       "    </tr>\n",
       "    <tr>\n",
       "      <th>3</th>\n",
       "      <td>0.626314</td>\n",
       "      <td>155.827477</td>\n",
       "      <td>3.327386</td>\n",
       "      <td>186.624050</td>\n",
       "      <td>0.138867</td>\n",
       "      <td>0.246393</td>\n",
       "      <td>0.020791</td>\n",
       "    </tr>\n",
       "    <tr>\n",
       "      <th>4</th>\n",
       "      <td>0.467517</td>\n",
       "      <td>0.767927</td>\n",
       "      <td>4.627689</td>\n",
       "      <td>223.455221</td>\n",
       "      <td>0.124364</td>\n",
       "      <td>0.348064</td>\n",
       "      <td>0.013688</td>\n",
       "    </tr>\n",
       "    <tr>\n",
       "      <th>5</th>\n",
       "      <td>0.610305</td>\n",
       "      <td>0.813666</td>\n",
       "      <td>4.519348</td>\n",
       "      <td>222.978955</td>\n",
       "      <td>0.116090</td>\n",
       "      <td>0.565513</td>\n",
       "      <td>0.011541</td>\n",
       "    </tr>\n",
       "    <tr>\n",
       "      <th>6</th>\n",
       "      <td>0.603440</td>\n",
       "      <td>0.754875</td>\n",
       "      <td>4.213092</td>\n",
       "      <td>212.051532</td>\n",
       "      <td>0.149025</td>\n",
       "      <td>0.291086</td>\n",
       "      <td>0.023677</td>\n",
       "    </tr>\n",
       "    <tr>\n",
       "      <th>7</th>\n",
       "      <td>0.635957</td>\n",
       "      <td>0.682766</td>\n",
       "      <td>3.851064</td>\n",
       "      <td>200.744681</td>\n",
       "      <td>0.138298</td>\n",
       "      <td>0.000000</td>\n",
       "      <td>0.191489</td>\n",
       "    </tr>\n",
       "    <tr>\n",
       "      <th>8</th>\n",
       "      <td>0.665062</td>\n",
       "      <td>0.711975</td>\n",
       "      <td>3.777778</td>\n",
       "      <td>193.802469</td>\n",
       "      <td>0.271605</td>\n",
       "      <td>0.000000</td>\n",
       "      <td>0.061728</td>\n",
       "    </tr>\n",
       "    <tr>\n",
       "      <th>10</th>\n",
       "      <td>0.655327</td>\n",
       "      <td>0.731495</td>\n",
       "      <td>3.682243</td>\n",
       "      <td>199.224299</td>\n",
       "      <td>0.233645</td>\n",
       "      <td>0.000000</td>\n",
       "      <td>0.074766</td>\n",
       "    </tr>\n",
       "  </tbody>\n",
       "</table>\n",
       "</div>"
      ],
      "text/plain": [
       "                    satisfaction_level  last_evaluation  number_project  \\\n",
       "time_spend_company                                                        \n",
       "2                             0.697079         0.717498        3.686903   \n",
       "3                             0.626314       155.827477        3.327386   \n",
       "4                             0.467517         0.767927        4.627689   \n",
       "5                             0.610305         0.813666        4.519348   \n",
       "6                             0.603440         0.754875        4.213092   \n",
       "7                             0.635957         0.682766        3.851064   \n",
       "8                             0.665062         0.711975        3.777778   \n",
       "10                            0.655327         0.731495        3.682243   \n",
       "\n",
       "                    average_monthly_hours  Work_accident      left  \\\n",
       "time_spend_company                                                   \n",
       "2                              200.120185       0.171957  0.016641   \n",
       "3                              186.624050       0.138867  0.246393   \n",
       "4                              223.455221       0.124364  0.348064   \n",
       "5                              222.978955       0.116090  0.565513   \n",
       "6                              212.051532       0.149025  0.291086   \n",
       "7                              200.744681       0.138298  0.000000   \n",
       "8                              193.802469       0.271605  0.000000   \n",
       "10                             199.224299       0.233645  0.000000   \n",
       "\n",
       "                    promotion_last_5years  \n",
       "time_spend_company                         \n",
       "2                                0.016641  \n",
       "3                                0.020791  \n",
       "4                                0.013688  \n",
       "5                                0.011541  \n",
       "6                                0.023677  \n",
       "7                                0.191489  \n",
       "8                                0.061728  \n",
       "10                               0.074766  "
      ]
     },
     "execution_count": 15,
     "metadata": {},
     "output_type": "execute_result"
    },
    {
     "data": {
      "image/png": "[encoded data removed]",
      "text/plain": [
       "<Figure size 432x288 with 1 Axes>"
      ]
     },
     "metadata": {},
     "output_type": "display_data"
    }
   ],
   "source": [
    "sub_df = df.groupby(\"time_spend_company\").mean()\n",
    "sns.pointplot(sub_df.index , sub_df[\"left\"])"
   ]
  },
  {
   "cell_type": "code",
   "execution_count": 16,
   "id": "d5a1e8ff",
   "metadata": {},
   "outputs": [
    {
     "data": {
      "text/plain": [
       "<AxesSubplot:xlabel='time_spend_company', ylabel='left'>"
      ]
     },
     "execution_count": 16,
     "metadata": {},
     "output_type": "execute_result"
    },
    {
     "data": {
      "image/png": "[encoded data removed]",
      "text/plain": [
       "<Figure size 432x288 with 1 Axes>"
      ]
     },
     "metadata": {},
     "output_type": "display_data"
    }
   ],
   "source": [
    "sns.pointplot(x=\"time_spend_company\",y=\"left\",data=df)"
   ]
  },
  {
   "cell_type": "code",
   "execution_count": 28,
   "id": "5b3b0206",
   "metadata": {},
   "outputs": [
    {
     "data": {
      "text/plain": [
       "([<matplotlib.patches.Wedge at 0x257df306100>,\n",
       "  <matplotlib.patches.Wedge at 0x257df306880>,\n",
       "  <matplotlib.patches.Wedge at 0x257df306fa0>,\n",
       "  <matplotlib.patches.Wedge at 0x257df31e700>],\n",
       " [Text(0.04597569854555077, 1.199118941199433, 'low'),\n",
       "  Text(-0.3225221741004068, -1.0516555744223235, 'medium'),\n",
       "  Text(1.0631810868577516, -0.28221618760795786, 'high'),\n",
       "  Text(1.0999999757366108, -0.0002310399443286058, 'nme')],\n",
       " [Text(0.02681915748490461, 0.6994860490330024, '48.8%'),\n",
       "  Text(-0.17592118587294914, -0.5736303133212672, '43.0%'),\n",
       "  Text(0.5799169564678645, -0.15393610233161334, '8.2%'),\n",
       "  Text(0.599999986765424, -0.00012602178781560315, '0.0%')])"
      ]
     },
     "execution_count": 28,
     "metadata": {},
     "output_type": "execute_result"
    },
    {
     "data": {
      "image/png": "[encoded data removed]",
      "text/plain": [
       "<Figure size 432x288 with 1 Axes>"
      ]
     },
     "metadata": {},
     "output_type": "display_data"
    }
   ],
   "source": [
    "lbs = df[\"salary\"].value_counts().index\n",
    "exp = [0.1 if i == \"low\" else 0  for i in lbs ]\n",
    "plt.pie(df[\"salary\"].value_counts(normalize=True), labels=lbs ,explode = exp , autopct=\"%1.1f%%\",colors=sns.color_palette(\"Reds\")) "
   ]
  },
  {
   "cell_type": "code",
   "execution_count": null,
   "id": "a33155b4",
   "metadata": {},
   "outputs": [],
   "source": []
  }
 ],
 "metadata": {
  "kernelspec": {
   "display_name": "Python 3",
   "language": "python",
   "name": "python3"
  },
  "language_info": {
   "codemirror_mode": {
    "name": "ipython",
    "version": 3
   },
   "file_extension": ".py",
   "mimetype": "text/x-python",
   "name": "python",
   "nbconvert_exporter": "python",
   "pygments_lexer": "ipython3",
   "version": "3.8.8"
  }
 },
 "nbformat": 4,
 "nbformat_minor": 5
}
