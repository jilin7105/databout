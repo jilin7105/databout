{
 "cells": [
  {
   "cell_type": "code",
   "execution_count": 1,
   "id": "13dec6e0",
   "metadata": {},
   "outputs": [
    {
     "data": {
      "text/plain": [
       "'D:\\\\PY\\\\jupyter'"
      ]
     },
     "execution_count": 1,
     "metadata": {},
     "output_type": "execute_result"
    }
   ],
   "source": [
    "'''\n",
    "假设检验\n",
    "从样本推断整体\n",
    "1. 原假设和备择假设，互为反命题  h0 h1 \n",
    "\n",
    "2. 选择检验统计量\n",
    "\n",
    "3. 确定显著性水平 （0.05）\n",
    "\n",
    "4. 计算检验统计量 p值\n",
    "\n",
    "\n",
    "'''\n",
    "\n",
    "import os\n",
    "\n",
    "os.path.abspath(\".\")"
   ]
  },
  {
   "cell_type": "code",
   "execution_count": 2,
   "id": "3932cd3a",
   "metadata": {},
   "outputs": [
    {
     "name": "stdout",
     "output_type": "stream",
     "text": [
      "Initialized empty Git repository in D:/PY/jupyter/.git/\n"
     ]
    }
   ],
   "source": [
    "!git init\n"
   ]
  },
  {
   "cell_type": "code",
   "execution_count": null,
   "id": "568098d1",
   "metadata": {},
   "outputs": [],
   "source": []
  }
 ],
 "metadata": {
  "kernelspec": {
   "display_name": "Python 3",
   "language": "python",
   "name": "python3"
  },
  "language_info": {
   "codemirror_mode": {
    "name": "ipython",
    "version": 3
   },
   "file_extension": ".py",
   "mimetype": "text/x-python",
   "name": "python",
   "nbconvert_exporter": "python",
   "pygments_lexer": "ipython3",
   "version": "3.8.8"
  }
 },
 "nbformat": 4,
 "nbformat_minor": 5
}
